{
 "cells": [
  {
   "cell_type": "code",
   "id": "initial_id",
   "metadata": {
    "collapsed": true,
    "ExecuteTime": {
     "end_time": "2025-05-21T20:38:13.339199Z",
     "start_time": "2025-05-21T20:38:13.334461Z"
    }
   },
   "source": [
    "import pandas as pd\n",
    "import numpy as np\n",
    "import json"
   ],
   "outputs": [],
   "execution_count": 2
  },
  {
   "metadata": {},
   "cell_type": "markdown",
   "source": "### Data Preprocessing",
   "id": "2e99e2e60c45ffc"
  },
  {
   "metadata": {
    "ExecuteTime": {
     "end_time": "2025-05-21T20:41:56.301029Z",
     "start_time": "2025-05-21T20:41:56.267644Z"
    }
   },
   "cell_type": "code",
   "source": [
    "train_df = pd.read_csv('symptom-disease-train-dataset.csv')\n",
    "\n",
    "# Load the mapping json file\n",
    "\n",
    "with open('mapping.json') as f:\n",
    "    label_to_disease = json.load(f)\n",
    "    \n",
    "    \n",
    "id_to_disease = {v: k for k, v in label_to_disease.items()}\n",
    "\n",
    "train_df['Disease'] = train_df['label'].map(id_to_disease)\n",
    "\n",
    "print(train_df[['label', 'Disease']].head())"
   ],
   "id": "afbb2277100f7d80",
   "outputs": [
    {
     "name": "stdout",
     "output_type": "stream",
     "text": [
      "   label                    Disease\n",
      "0    308              Drug Reaction\n",
      "1     35                    Allergy\n",
      "2    798  Premature Ovarian Failure\n",
      "3    149           Bronchial Asthma\n",
      "4    596                    Malaria\n"
     ]
    }
   ],
   "execution_count": 4
  },
  {
   "metadata": {
    "ExecuteTime": {
     "end_time": "2025-05-21T20:42:56.968765Z",
     "start_time": "2025-05-21T20:42:56.952996Z"
    }
   },
   "cell_type": "code",
   "source": [
    "test_df = pd.read_csv('symptom-disease-test-dataset.csv')\n",
    "test_df['Disease'] = test_df['label'].map(id_to_disease)\n",
    "\n",
    "print(test_df[['label', 'Disease']].head())"
   ],
   "id": "f604a89403dd162f",
   "outputs": [
    {
     "name": "stdout",
     "output_type": "stream",
     "text": [
      "   label                       Disease\n",
      "0    541                      Jaundice\n",
      "1    502               Hyperthyroidism\n",
      "2    297  Dimorphic Hemmorhoids(Piles)\n",
      "3   1019                  Tuberculosis\n",
      "4     33           Alcoholic Hepatitis\n"
     ]
    }
   ],
   "execution_count": 6
  },
  {
   "metadata": {
    "ExecuteTime": {
     "end_time": "2025-05-21T20:43:13.754045Z",
     "start_time": "2025-05-21T20:43:13.743476Z"
    }
   },
   "cell_type": "code",
   "source": "test_df.head()",
   "id": "78d587e40e5345a7",
   "outputs": [
    {
     "data": {
      "text/plain": [
       "                                                text  label  \\\n",
       "0  itching,vomiting,fatigue,weight_loss,high_feve...    541   \n",
       "1  fatigue,weight_loss,restlessness,sweating,diar...    502   \n",
       "2  constipation,pain_during_bowel_movements,pain_...    297   \n",
       "3  chills,vomiting,fatigue,weight_loss,cough,high...   1019   \n",
       "4  vomiting,yellowish_skin,abdominal_pain,swellin...     33   \n",
       "\n",
       "                        Disease  \n",
       "0                      Jaundice  \n",
       "1               Hyperthyroidism  \n",
       "2  Dimorphic Hemmorhoids(Piles)  \n",
       "3                  Tuberculosis  \n",
       "4           Alcoholic Hepatitis  "
      ],
      "text/html": [
       "<div>\n",
       "<style scoped>\n",
       "    .dataframe tbody tr th:only-of-type {\n",
       "        vertical-align: middle;\n",
       "    }\n",
       "\n",
       "    .dataframe tbody tr th {\n",
       "        vertical-align: top;\n",
       "    }\n",
       "\n",
       "    .dataframe thead th {\n",
       "        text-align: right;\n",
       "    }\n",
       "</style>\n",
       "<table border=\"1\" class=\"dataframe\">\n",
       "  <thead>\n",
       "    <tr style=\"text-align: right;\">\n",
       "      <th></th>\n",
       "      <th>text</th>\n",
       "      <th>label</th>\n",
       "      <th>Disease</th>\n",
       "    </tr>\n",
       "  </thead>\n",
       "  <tbody>\n",
       "    <tr>\n",
       "      <th>0</th>\n",
       "      <td>itching,vomiting,fatigue,weight_loss,high_feve...</td>\n",
       "      <td>541</td>\n",
       "      <td>Jaundice</td>\n",
       "    </tr>\n",
       "    <tr>\n",
       "      <th>1</th>\n",
       "      <td>fatigue,weight_loss,restlessness,sweating,diar...</td>\n",
       "      <td>502</td>\n",
       "      <td>Hyperthyroidism</td>\n",
       "    </tr>\n",
       "    <tr>\n",
       "      <th>2</th>\n",
       "      <td>constipation,pain_during_bowel_movements,pain_...</td>\n",
       "      <td>297</td>\n",
       "      <td>Dimorphic Hemmorhoids(Piles)</td>\n",
       "    </tr>\n",
       "    <tr>\n",
       "      <th>3</th>\n",
       "      <td>chills,vomiting,fatigue,weight_loss,cough,high...</td>\n",
       "      <td>1019</td>\n",
       "      <td>Tuberculosis</td>\n",
       "    </tr>\n",
       "    <tr>\n",
       "      <th>4</th>\n",
       "      <td>vomiting,yellowish_skin,abdominal_pain,swellin...</td>\n",
       "      <td>33</td>\n",
       "      <td>Alcoholic Hepatitis</td>\n",
       "    </tr>\n",
       "  </tbody>\n",
       "</table>\n",
       "</div>"
      ]
     },
     "execution_count": 7,
     "metadata": {},
     "output_type": "execute_result"
    }
   ],
   "execution_count": 7
  }
 ],
 "metadata": {
  "kernelspec": {
   "display_name": "Python 3",
   "language": "python",
   "name": "python3"
  },
  "language_info": {
   "codemirror_mode": {
    "name": "ipython",
    "version": 2
   },
   "file_extension": ".py",
   "mimetype": "text/x-python",
   "name": "python",
   "nbconvert_exporter": "python",
   "pygments_lexer": "ipython2",
   "version": "2.7.6"
  }
 },
 "nbformat": 4,
 "nbformat_minor": 5
}
