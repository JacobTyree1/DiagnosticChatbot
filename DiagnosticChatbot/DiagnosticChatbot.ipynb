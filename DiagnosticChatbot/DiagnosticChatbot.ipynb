{
 "cells": [
  {
   "cell_type": "code",
   "id": "initial_id",
   "metadata": {
    "collapsed": true,
    "ExecuteTime": {
     "end_time": "2025-07-09T20:12:07.959569Z",
     "start_time": "2025-07-09T20:12:01.946461Z"
    }
   },
   "source": [
    "import pandas as pd\n",
    "import numpy as np\n",
    "import json\n",
    "from nltk.stem import WordNetLemmatizer\n",
    "import string\n",
    "from fuzzywuzzy import process\n",
    "from collections import defaultdict\n",
    "import ollama"
   ],
   "outputs": [],
   "execution_count": 2
  },
  {
   "metadata": {},
   "cell_type": "markdown",
   "source": "### Push everything to the main branch",
   "id": "b9ec02a037cbaa83"
  },
  {
   "metadata": {},
   "cell_type": "markdown",
   "source": "### Data Preprocessing",
   "id": "2e99e2e60c45ffc"
  },
  {
   "metadata": {
    "ExecuteTime": {
     "end_time": "2025-05-23T19:30:07.575354Z",
     "start_time": "2025-05-23T19:30:07.525889Z"
    }
   },
   "cell_type": "code",
   "source": [
    "train_df = pd.read_csv('symptom-disease-train-dataset.csv')\n",
    "\n",
    "# Load the mapping json file\n",
    "\n",
    "with open('mapping.json') as f:\n",
    "    label_to_disease = json.load(f)\n",
    "    \n",
    "    \n",
    "id_to_disease = {v: k for k, v in label_to_disease.items()}\n",
    "\n",
    "train_df['Disease'] = train_df['label'].map(id_to_disease)\n",
    "\n",
    "print(train_df[['label', 'Disease']].head())"
   ],
   "id": "afbb2277100f7d80",
   "outputs": [
    {
     "name": "stdout",
     "output_type": "stream",
     "text": [
      "   label                    Disease\n",
      "0    308              Drug Reaction\n",
      "1     35                    Allergy\n",
      "2    798  Premature Ovarian Failure\n",
      "3    149           Bronchial Asthma\n",
      "4    596                    Malaria\n"
     ]
    }
   ],
   "execution_count": 3
  },
  {
   "metadata": {
    "ExecuteTime": {
     "end_time": "2025-05-23T19:30:07.691468Z",
     "start_time": "2025-05-23T19:30:07.677514Z"
    }
   },
   "cell_type": "code",
   "source": [
    "test_df = pd.read_csv('symptom-disease-test-dataset.csv')\n",
    "test_df['Disease'] = test_df['label'].map(id_to_disease)\n",
    "\n",
    "print(test_df[['label', 'Disease']].head())"
   ],
   "id": "f604a89403dd162f",
   "outputs": [
    {
     "name": "stdout",
     "output_type": "stream",
     "text": [
      "   label                       Disease\n",
      "0    541                      Jaundice\n",
      "1    502               Hyperthyroidism\n",
      "2    297  Dimorphic Hemmorhoids(Piles)\n",
      "3   1019                  Tuberculosis\n",
      "4     33           Alcoholic Hepatitis\n"
     ]
    }
   ],
   "execution_count": 4
  },
  {
   "metadata": {},
   "cell_type": "markdown",
   "source": "### Normalize the Text",
   "id": "dbdf6a578de9dfdd"
  },
  {
   "metadata": {
    "ExecuteTime": {
     "end_time": "2025-05-23T19:30:07.747367Z",
     "start_time": "2025-05-23T19:30:07.736835Z"
    }
   },
   "cell_type": "code",
   "source": [
    "lemmatizer = WordNetLemmatizer()\n",
    "def normalize(symptom):\n",
    "    symptom =  symptom.lower().replace('-', ' ').replace('_', ' ')\n",
    "    symptom = lemmatizer.lemmatize(symptom) # as a precaution\n",
    "    return symptom\n",
    "    # translator = symptom.maketrans('', '', string.punctuation)\n",
    "    # symptom = symptom.translate(translator)\n",
    "    \n",
    "train_df.head(10)"
   ],
   "id": "78d587e40e5345a7",
   "outputs": [
    {
     "data": {
      "text/plain": [
       "                                                text  label  \\\n",
       "0  I have been having migraines and headaches. I ...    308   \n",
       "1  I have asthma and I get wheezing and breathing...     35   \n",
       "2  Signs and symptoms of primary ovarian insuffic...    798   \n",
       "3  cough,high_fever,breathlessness,family_history...    149   \n",
       "4  chills,vomiting,high_fever,sweating,headache,n...    596   \n",
       "5  Posterior cortical atrophy symptoms vary among...    785   \n",
       "6  I've been having back pain, a cough, and numbn...    186   \n",
       "7  yellowish_skin,nausea,loss_of_appetite,yellowi...    466   \n",
       "8  joint_pain,neck_pain,knee_pain,hip_joint_pain,...    700   \n",
       "9  An unusual sensation (aura) may precede a temp...    971   \n",
       "\n",
       "                      Disease  \n",
       "0               Drug Reaction  \n",
       "1                     Allergy  \n",
       "2   Premature Ovarian Failure  \n",
       "3            Bronchial Asthma  \n",
       "4                     Malaria  \n",
       "5  Posterior Cortical Atrophy  \n",
       "6        Cervical Spondylosis  \n",
       "7                 Hepatitis C  \n",
       "8             Osteoarthristis  \n",
       "9       Temporal Lobe Seizure  "
      ],
      "text/html": [
       "<div>\n",
       "<style scoped>\n",
       "    .dataframe tbody tr th:only-of-type {\n",
       "        vertical-align: middle;\n",
       "    }\n",
       "\n",
       "    .dataframe tbody tr th {\n",
       "        vertical-align: top;\n",
       "    }\n",
       "\n",
       "    .dataframe thead th {\n",
       "        text-align: right;\n",
       "    }\n",
       "</style>\n",
       "<table border=\"1\" class=\"dataframe\">\n",
       "  <thead>\n",
       "    <tr style=\"text-align: right;\">\n",
       "      <th></th>\n",
       "      <th>text</th>\n",
       "      <th>label</th>\n",
       "      <th>Disease</th>\n",
       "    </tr>\n",
       "  </thead>\n",
       "  <tbody>\n",
       "    <tr>\n",
       "      <th>0</th>\n",
       "      <td>I have been having migraines and headaches. I ...</td>\n",
       "      <td>308</td>\n",
       "      <td>Drug Reaction</td>\n",
       "    </tr>\n",
       "    <tr>\n",
       "      <th>1</th>\n",
       "      <td>I have asthma and I get wheezing and breathing...</td>\n",
       "      <td>35</td>\n",
       "      <td>Allergy</td>\n",
       "    </tr>\n",
       "    <tr>\n",
       "      <th>2</th>\n",
       "      <td>Signs and symptoms of primary ovarian insuffic...</td>\n",
       "      <td>798</td>\n",
       "      <td>Premature Ovarian Failure</td>\n",
       "    </tr>\n",
       "    <tr>\n",
       "      <th>3</th>\n",
       "      <td>cough,high_fever,breathlessness,family_history...</td>\n",
       "      <td>149</td>\n",
       "      <td>Bronchial Asthma</td>\n",
       "    </tr>\n",
       "    <tr>\n",
       "      <th>4</th>\n",
       "      <td>chills,vomiting,high_fever,sweating,headache,n...</td>\n",
       "      <td>596</td>\n",
       "      <td>Malaria</td>\n",
       "    </tr>\n",
       "    <tr>\n",
       "      <th>5</th>\n",
       "      <td>Posterior cortical atrophy symptoms vary among...</td>\n",
       "      <td>785</td>\n",
       "      <td>Posterior Cortical Atrophy</td>\n",
       "    </tr>\n",
       "    <tr>\n",
       "      <th>6</th>\n",
       "      <td>I've been having back pain, a cough, and numbn...</td>\n",
       "      <td>186</td>\n",
       "      <td>Cervical Spondylosis</td>\n",
       "    </tr>\n",
       "    <tr>\n",
       "      <th>7</th>\n",
       "      <td>yellowish_skin,nausea,loss_of_appetite,yellowi...</td>\n",
       "      <td>466</td>\n",
       "      <td>Hepatitis C</td>\n",
       "    </tr>\n",
       "    <tr>\n",
       "      <th>8</th>\n",
       "      <td>joint_pain,neck_pain,knee_pain,hip_joint_pain,...</td>\n",
       "      <td>700</td>\n",
       "      <td>Osteoarthristis</td>\n",
       "    </tr>\n",
       "    <tr>\n",
       "      <th>9</th>\n",
       "      <td>An unusual sensation (aura) may precede a temp...</td>\n",
       "      <td>971</td>\n",
       "      <td>Temporal Lobe Seizure</td>\n",
       "    </tr>\n",
       "  </tbody>\n",
       "</table>\n",
       "</div>"
      ]
     },
     "execution_count": 5,
     "metadata": {},
     "output_type": "execute_result"
    }
   ],
   "execution_count": 5
  },
  {
   "metadata": {
    "ExecuteTime": {
     "end_time": "2025-05-23T19:30:10.232036Z",
     "start_time": "2025-05-23T19:30:07.853330Z"
    }
   },
   "cell_type": "code",
   "source": [
    "# Pass in each symptom into the normalize function\n",
    "def comma_sep_values(text):\n",
    "    if \",\" in text and not ' ' in text:\n",
    "        return True\n",
    "    else:\n",
    "        return False\n",
    "\n",
    "\n",
    "def lemmatization(string_row):\n",
    "    # Break into separate words\n",
    "    lem_words = string_row.split()\n",
    "    # lemmatize each word\n",
    "    new_string = [lemmatizer.lemmatize(s) for s in lem_words]\n",
    "    # join the words back together into a sentence\n",
    "    string_row = ' '.join(new_string)\n",
    "    return string_row\n",
    "    \n",
    "    \n",
    "for i, row in train_df['text'].items():\n",
    "    if comma_sep_values(row):\n",
    "        words = row.split(',')\n",
    "        new_words = [normalize(word) for word in words]\n",
    "        new_row = \",\".join(new_words)\n",
    "        train_df.loc[i, 'text'] = new_row\n",
    "    else:\n",
    "        train_df.loc[i, 'text'] = row # Grab the row\n",
    "        new_row = lemmatization(row) # lemmatize the row, and get the new row\n",
    "        train_df.loc[i, 'text'] = new_row # replace the old row with the new row\n",
    "                "
   ],
   "id": "3878a6bb8083163e",
   "outputs": [],
   "execution_count": 6
  },
  {
   "metadata": {
    "ExecuteTime": {
     "end_time": "2025-05-23T19:30:10.267728Z",
     "start_time": "2025-05-23T19:30:10.260159Z"
    }
   },
   "cell_type": "code",
   "source": [
    "# Check the results\n",
    "train_df.head()"
   ],
   "id": "6168077713265cb6",
   "outputs": [
    {
     "data": {
      "text/plain": [
       "                                                text  label  \\\n",
       "0  I have been having migraine and headaches. I c...    308   \n",
       "1  I have asthma and I get wheezing and breathing...     35   \n",
       "2  Signs and symptom of primary ovarian insuffici...    798   \n",
       "3  cough,high fever,breathlessness,family history...    149   \n",
       "4  chill,vomiting,high fever,sweating,headache,na...    596   \n",
       "\n",
       "                     Disease  \n",
       "0              Drug Reaction  \n",
       "1                    Allergy  \n",
       "2  Premature Ovarian Failure  \n",
       "3           Bronchial Asthma  \n",
       "4                    Malaria  "
      ],
      "text/html": [
       "<div>\n",
       "<style scoped>\n",
       "    .dataframe tbody tr th:only-of-type {\n",
       "        vertical-align: middle;\n",
       "    }\n",
       "\n",
       "    .dataframe tbody tr th {\n",
       "        vertical-align: top;\n",
       "    }\n",
       "\n",
       "    .dataframe thead th {\n",
       "        text-align: right;\n",
       "    }\n",
       "</style>\n",
       "<table border=\"1\" class=\"dataframe\">\n",
       "  <thead>\n",
       "    <tr style=\"text-align: right;\">\n",
       "      <th></th>\n",
       "      <th>text</th>\n",
       "      <th>label</th>\n",
       "      <th>Disease</th>\n",
       "    </tr>\n",
       "  </thead>\n",
       "  <tbody>\n",
       "    <tr>\n",
       "      <th>0</th>\n",
       "      <td>I have been having migraine and headaches. I c...</td>\n",
       "      <td>308</td>\n",
       "      <td>Drug Reaction</td>\n",
       "    </tr>\n",
       "    <tr>\n",
       "      <th>1</th>\n",
       "      <td>I have asthma and I get wheezing and breathing...</td>\n",
       "      <td>35</td>\n",
       "      <td>Allergy</td>\n",
       "    </tr>\n",
       "    <tr>\n",
       "      <th>2</th>\n",
       "      <td>Signs and symptom of primary ovarian insuffici...</td>\n",
       "      <td>798</td>\n",
       "      <td>Premature Ovarian Failure</td>\n",
       "    </tr>\n",
       "    <tr>\n",
       "      <th>3</th>\n",
       "      <td>cough,high fever,breathlessness,family history...</td>\n",
       "      <td>149</td>\n",
       "      <td>Bronchial Asthma</td>\n",
       "    </tr>\n",
       "    <tr>\n",
       "      <th>4</th>\n",
       "      <td>chill,vomiting,high fever,sweating,headache,na...</td>\n",
       "      <td>596</td>\n",
       "      <td>Malaria</td>\n",
       "    </tr>\n",
       "  </tbody>\n",
       "</table>\n",
       "</div>"
      ]
     },
     "execution_count": 7,
     "metadata": {},
     "output_type": "execute_result"
    }
   ],
   "execution_count": 7
  },
  {
   "metadata": {
    "ExecuteTime": {
     "end_time": "2025-05-23T19:30:10.627799Z",
     "start_time": "2025-05-23T19:30:10.330112Z"
    }
   },
   "cell_type": "code",
   "source": [
    "# Do the same for the test results\n",
    "for i, row in test_df['text'].items():\n",
    "    if comma_sep_values(row):\n",
    "        words = row.split(',')\n",
    "        new_words = [normalize(word) for word in words]\n",
    "        new_row = \",\".join(new_words)\n",
    "        test_df.loc[i, 'text'] = new_row\n",
    "    else:\n",
    "        test_df.loc[i, 'text'] = row # Grab the row\n",
    "        new_row = lemmatization(row) # lemmatize the row, and get the new row\n",
    "        test_df.loc[i, 'text'] = new_row # replace the old row with the new row"
   ],
   "id": "b3ad096b67d3c0c4",
   "outputs": [],
   "execution_count": 8
  },
  {
   "metadata": {
    "ExecuteTime": {
     "end_time": "2025-05-23T19:30:10.679904Z",
     "start_time": "2025-05-23T19:30:10.672281Z"
    }
   },
   "cell_type": "code",
   "source": [
    "# Check the results\n",
    "test_df.head()"
   ],
   "id": "6c48c6b90d41d09b",
   "outputs": [
    {
     "data": {
      "text/plain": [
       "                                                text  label  \\\n",
       "0  itching,vomiting,fatigue,weight loss,high feve...    541   \n",
       "1  fatigue,weight loss,restlessness,sweating,diar...    502   \n",
       "2  constipation,pain during bowel movements,pain ...    297   \n",
       "3  chill,vomiting,fatigue,weight loss,cough,high ...   1019   \n",
       "4  vomiting,yellowish skin,abdominal pain,swellin...     33   \n",
       "\n",
       "                        Disease  \n",
       "0                      Jaundice  \n",
       "1               Hyperthyroidism  \n",
       "2  Dimorphic Hemmorhoids(Piles)  \n",
       "3                  Tuberculosis  \n",
       "4           Alcoholic Hepatitis  "
      ],
      "text/html": [
       "<div>\n",
       "<style scoped>\n",
       "    .dataframe tbody tr th:only-of-type {\n",
       "        vertical-align: middle;\n",
       "    }\n",
       "\n",
       "    .dataframe tbody tr th {\n",
       "        vertical-align: top;\n",
       "    }\n",
       "\n",
       "    .dataframe thead th {\n",
       "        text-align: right;\n",
       "    }\n",
       "</style>\n",
       "<table border=\"1\" class=\"dataframe\">\n",
       "  <thead>\n",
       "    <tr style=\"text-align: right;\">\n",
       "      <th></th>\n",
       "      <th>text</th>\n",
       "      <th>label</th>\n",
       "      <th>Disease</th>\n",
       "    </tr>\n",
       "  </thead>\n",
       "  <tbody>\n",
       "    <tr>\n",
       "      <th>0</th>\n",
       "      <td>itching,vomiting,fatigue,weight loss,high feve...</td>\n",
       "      <td>541</td>\n",
       "      <td>Jaundice</td>\n",
       "    </tr>\n",
       "    <tr>\n",
       "      <th>1</th>\n",
       "      <td>fatigue,weight loss,restlessness,sweating,diar...</td>\n",
       "      <td>502</td>\n",
       "      <td>Hyperthyroidism</td>\n",
       "    </tr>\n",
       "    <tr>\n",
       "      <th>2</th>\n",
       "      <td>constipation,pain during bowel movements,pain ...</td>\n",
       "      <td>297</td>\n",
       "      <td>Dimorphic Hemmorhoids(Piles)</td>\n",
       "    </tr>\n",
       "    <tr>\n",
       "      <th>3</th>\n",
       "      <td>chill,vomiting,fatigue,weight loss,cough,high ...</td>\n",
       "      <td>1019</td>\n",
       "      <td>Tuberculosis</td>\n",
       "    </tr>\n",
       "    <tr>\n",
       "      <th>4</th>\n",
       "      <td>vomiting,yellowish skin,abdominal pain,swellin...</td>\n",
       "      <td>33</td>\n",
       "      <td>Alcoholic Hepatitis</td>\n",
       "    </tr>\n",
       "  </tbody>\n",
       "</table>\n",
       "</div>"
      ]
     },
     "execution_count": 9,
     "metadata": {},
     "output_type": "execute_result"
    }
   ],
   "execution_count": 9
  },
  {
   "metadata": {
    "ExecuteTime": {
     "end_time": "2025-05-23T19:30:11.150808Z",
     "start_time": "2025-05-23T19:30:10.751571Z"
    }
   },
   "cell_type": "code",
   "source": [
    "# Mapping symptoms to diseases: (Optional step, but it is helpful)\n",
    "symptom_disease_map = defaultdict(set)\n",
    "\n",
    "for _, row in train_df.iterrows():\n",
    "    disease = row['Disease']\n",
    "    text = row['text']\n",
    "    \n",
    "    if ',' in text:\n",
    "        symptoms = [normalize(s) for s in text.split(',')]\n",
    "    else:\n",
    "        symptoms = [normalize(w) for w in text.split()]\n",
    "        \n",
    "    for symptom in symptoms:\n",
    "        if symptom: # avoid blank entries\n",
    "            symptom_disease_map[symptom].add(disease)\n",
    "\n",
    "for symptom, diseases in list(symptom_disease_map.items())[:5]:\n",
    "    print(f\"{symptom}: {list(diseases)[:3]}...\")\n",
    "            \n"
   ],
   "id": "a4448c1952e0dbe3",
   "outputs": [
    {
     "name": "stdout",
     "output_type": "stream",
     "text": [
      "i: ['Urinary Tract Infection', 'Psoriasis', 'Varicose Veins']...\n",
      "have: ['Urinary Tract Infection', 'Psoriasis', 'Varicose Veins']...\n",
      "been: ['Psoriasis', 'Urinary Tract Infection', 'Varicose Veins']...\n",
      "having: ['Psoriasis', 'Urinary Tract Infection', 'Varicose Veins']...\n",
      "migraine: ['Drug Reaction', 'Migraine Headache']...\n"
     ]
    }
   ],
   "execution_count": 10
  },
  {
   "metadata": {
    "ExecuteTime": {
     "end_time": "2025-05-23T19:30:11.273408Z",
     "start_time": "2025-05-23T19:30:11.268679Z"
    }
   },
   "cell_type": "code",
   "source": [
    "# Test for missing symptoms\n",
    "\n",
    "test_symptoms = {\"fever\", \"fatigue\", \"headache\"}\n",
    "for symptom in test_symptoms:\n",
    "    if symptom not in symptom_disease_map:\n",
    "        print(f\"Missing: {symptom}\")"
   ],
   "id": "6cb8790c85bd0e07",
   "outputs": [],
   "execution_count": 11
  },
  {
   "metadata": {
    "ExecuteTime": {
     "end_time": "2025-05-23T19:30:11.389115Z",
     "start_time": "2025-05-23T19:30:11.337425Z"
    }
   },
   "cell_type": "code",
   "source": [
    "train_df.to_csv('normalized_train.csv', index=False)\n",
    "test_df.to_csv('normalized_test.csv', index=False)"
   ],
   "id": "19355837aa577070",
   "outputs": [],
   "execution_count": 12
  },
  {
   "metadata": {
    "ExecuteTime": {
     "end_time": "2025-05-23T19:30:11.489961Z",
     "start_time": "2025-05-23T19:30:11.425125Z"
    }
   },
   "cell_type": "code",
   "source": [
    "# Export the maps\n",
    "\n",
    "with open(\"symptom_disease_map.json\", \"w\") as f:\n",
    "    json.dump({k: list(v) for k, v in symptom_disease_map.items()}, f, indent=2)"
   ],
   "id": "b2e4f90da0827ff",
   "outputs": [],
   "execution_count": 13
  },
  {
   "metadata": {},
   "cell_type": "markdown",
   "source": "# Phase 3",
   "id": "4eea816169646e88"
  },
  {
   "metadata": {
    "ExecuteTime": {
     "end_time": "2025-05-23T19:30:11.519982Z",
     "start_time": "2025-05-23T19:30:11.515313Z"
    }
   },
   "cell_type": "code",
   "source": [
    "#Pipeline that is being followed: \n",
    "\n",
    "# Parse input into structured symptoms using NLP\n",
    "# Match symptoms to disease with simple scoring methods (number of symptom matches per disease)\n",
    "# Output response summary with a confidence score\n",
    "\n",
    "\n",
    "# Simple scoring method: \n",
    "def match_disease(user_symptoms):\n",
    "    scores = defaultdict(set)\n",
    "    \n",
    "    for symptom in user_symptoms:\n",
    "        if symptom in symptom_disease_map:\n",
    "            for disease in symptom_disease_map[symptom]:\n",
    "                scores[disease] += 1\n",
    "            \n",
    "    return sorted(scores.items(), key=lambda x: x[1], reverse=True)\n"
   ],
   "id": "b16697a9447b5995",
   "outputs": [],
   "execution_count": 14
  },
  {
   "metadata": {
    "ExecuteTime": {
     "end_time": "2025-05-23T19:30:11.552186Z",
     "start_time": "2025-05-23T19:30:11.547922Z"
    }
   },
   "cell_type": "code",
   "source": [
    "# Output Response Summary: \n",
    "\n",
    "# Suggested actions and Urgency\n",
    "def get_urgency(score):\n",
    "    if score >= 4:\n",
    "        return \"High\"\n",
    "    elif score >= 2:\n",
    "        return \"Moderate\"\n",
    "    else:\n",
    "        return \"Low\""
   ],
   "id": "8cdca2acd550a310",
   "outputs": [],
   "execution_count": 15
  },
  {
   "metadata": {
    "ExecuteTime": {
     "end_time": "2025-07-09T20:29:51.672749Z",
     "start_time": "2025-07-09T20:28:35.384313Z"
    }
   },
   "cell_type": "code",
   "source": [
    "result = ollama.generate(model=\"mistral\", prompt='Why is the sky blue?')\n",
    "print(result['response'])\n"
   ],
   "id": "23402329f2182238",
   "outputs": [
    {
     "name": "stdout",
     "output_type": "stream",
     "text": [
      " The sky appears blue due to a phenomenon called Rayleigh scattering. As sunlight reaches Earth, it encounters molecules and tiny particles in the atmosphere. These molecules scatter short-wavelength light (blue and violet light) more than longer wavelengths (red, orange, yellow). However, our eyes are more sensitive to blue light and less sensitive to violet light, which makes the sky look predominantly blue rather than violet. Additionally, sunlight reaches us more abundantly in the blue part of the spectrum compared to violet. At sunrise and sunset, the scattering of sunlight through the Earth's atmosphere scatters shorter wavelengths (blue and violet) to a greater extent, making the sky appear red or orange as longer wavelengths are less affected by scattering. This is also known as the \"scattering of sunlight\" and plays a significant role in determining the color of the sky.\n"
     ]
    }
   ],
   "execution_count": 7
  }
 ],
 "metadata": {
  "kernelspec": {
   "display_name": "Python 3",
   "language": "python",
   "name": "python3"
  },
  "language_info": {
   "codemirror_mode": {
    "name": "ipython",
    "version": 2
   },
   "file_extension": ".py",
   "mimetype": "text/x-python",
   "name": "python",
   "nbconvert_exporter": "python",
   "pygments_lexer": "ipython2",
   "version": "2.7.6"
  }
 },
 "nbformat": 4,
 "nbformat_minor": 5
}
